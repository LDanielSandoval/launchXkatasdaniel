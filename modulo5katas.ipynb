{
 "cells": [
  {
   "cell_type": "markdown",
   "metadata": {},
   "source": [
    "# Operaciones matemáticas"
   ]
  },
  {
   "cell_type": "markdown",
   "metadata": {},
   "source": [
    "### Ejercicio No.1"
   ]
  },
  {
   "cell_type": "code",
   "execution_count": 8,
   "metadata": {},
   "outputs": [
    {
     "name": "stdout",
     "output_type": "stream",
     "text": [
      "628949330\n",
      "390577534\n"
     ]
    }
   ],
   "source": [
    "# Crear las variables\n",
    "planeta_tierra = int(149597870) #km\n",
    "planeta_jupiter = int(778547200) #km\n",
    "\n",
    "# Calcular distancia entre planetas\n",
    "distancia = int(planeta_tierra) - int(planeta_jupiter) #km\n",
    "print(abs(distancia))\n",
    "\n",
    "conver =  0.621 * distancia #millas\n",
    "\n",
    "print(abs(round(conver))) #millas"
   ]
  },
  {
   "cell_type": "markdown",
   "metadata": {},
   "source": [
    "### Ejercicio No.2"
   ]
  },
  {
   "cell_type": "code",
   "execution_count": 15,
   "metadata": {},
   "outputs": [
    {
     "name": "stdout",
     "output_type": "stream",
     "text": [
      "50300000\n",
      "31236300\n"
     ]
    }
   ],
   "source": [
    "\n",
    "# Almacenar entrada del usuario\n",
    "primer_planeta = int(input(\"Ingresa la distancia entre el Sol y el primer planeta\" ))\n",
    "segundo_planeta = int(input(\"Ingresa la distancia entre el Sol y el primer planeta\" ))\n",
    "\n",
    "# Realizar cálculo y determinar el valor abs\n",
    "result_one = int(primer_planeta) - int(segundo_planeta) #km\n",
    "print(abs(result_one))\n",
    "\n",
    "result_two = 0.621 * result_one #millas\n",
    "\n",
    "print(abs(round(result_two)))\n"
   ]
  }
 ],
 "metadata": {
  "interpreter": {
   "hash": "5322818cae43cf6468214953b049884cb6ca7e8071f01fca2a6d6ce521d192bd"
  },
  "kernelspec": {
   "display_name": "Python 3.10.2 64-bit",
   "language": "python",
   "name": "python3"
  },
  "language_info": {
   "codemirror_mode": {
    "name": "ipython",
    "version": 3
   },
   "file_extension": ".py",
   "mimetype": "text/x-python",
   "name": "python",
   "nbconvert_exporter": "python",
   "pygments_lexer": "ipython3",
   "version": "3.10.2"
  },
  "orig_nbformat": 4
 },
 "nbformat": 4,
 "nbformat_minor": 2
}
