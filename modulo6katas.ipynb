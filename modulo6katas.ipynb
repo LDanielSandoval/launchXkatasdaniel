{
 "cells": [
  {
   "cell_type": "markdown",
   "metadata": {},
   "source": [
    "# Introducción a las listas\n",
    "\n",
    "## Crear listas en python\n",
    "\n",
    "### Ejercicio No.1\n"
   ]
  },
  {
   "cell_type": "code",
   "execution_count": null,
   "metadata": {},
   "outputs": [],
   "source": [
    "# Creamos la lista\n",
    "planets = ['Mercury', 'Venus', 'Earth', 'Mars', 'Jupiter', 'Saturn', 'Uranus', 'Neptune']\n",
    "# Agregamos a Plutón  y mostamos el número de planetas como el último elemento de la lista\n",
    "planets.append('Plutón')\n",
    "number_planets = len(planets)\n",
    "print(number_planets, planets[-1])"
   ]
  },
  {
   "cell_type": "markdown",
   "metadata": {},
   "source": [
    "### Eejercicio No.2"
   ]
  },
  {
   "cell_type": "code",
   "execution_count": 1,
   "metadata": {},
   "outputs": [
    {
     "name": "stdout",
     "output_type": "stream",
     "text": [
      "Planetas que están más cercanos que Mars\n",
      "['Mercury', 'Venus', 'Earth']\n",
      "Planetas que están más lejos que Mars\n",
      "['Jupiter', 'Saturn', 'Uranus', 'Neptune']\n"
     ]
    }
   ],
   "source": [
    "# Lista de planetas\n",
    "planets = ['Mercury', 'Venus', 'Earth', 'Mars', 'Jupiter', 'Saturn', 'Uranus', 'Neptune']\n",
    "# Solicitamos el nombre de un planeta\n",
    "planet_input = input('Ingrea nombre de un planeta (iniciando con la primer lettra en mayúscula)')\n",
    "# Buscamos el planeta en la lista\n",
    "planet_index = planets.index(planet_input)\n",
    "print('Planetas que están más cercanos que ' + planet_input)\n",
    "print(planets[0:planet_index])\n",
    "# Mostar los planetas mas lejanos al sol\n",
    "print('Planetas que están más lejos que ' + planet_input)\n",
    "print(planets[planet_index + 1:])\n"
   ]
  }
 ],
 "metadata": {
  "interpreter": {
   "hash": "5322818cae43cf6468214953b049884cb6ca7e8071f01fca2a6d6ce521d192bd"
  },
  "kernelspec": {
   "display_name": "Python 3.10.2 64-bit",
   "language": "python",
   "name": "python3"
  },
  "language_info": {
   "codemirror_mode": {
    "name": "ipython",
    "version": 3
   },
   "file_extension": ".py",
   "mimetype": "text/x-python",
   "name": "python",
   "nbconvert_exporter": "python",
   "pygments_lexer": "ipython3",
   "version": "3.10.2"
  },
  "orig_nbformat": 4
 },
 "nbformat": 4,
 "nbformat_minor": 2
}
