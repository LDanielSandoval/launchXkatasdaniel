{
 "cells": [
  {
   "cell_type": "markdown",
   "metadata": {},
   "source": [
    "# Kata Módulo 3\n"
   ]
  },
  {
   "cell_type": "markdown",
   "metadata": {},
   "source": [
    "### Problemas No.1, No.2 y No.3"
   ]
  },
  {
   "cell_type": "code",
   "execution_count": 66,
   "metadata": {},
   "outputs": [
    {
     "name": "stdout",
     "output_type": "stream",
     "text": [
      "¡A L E R T A!, asteroide con direccion a la tierra. Potencialmente peligroso.  Velocidad: 19 km/s Tamaño: 1000 metros\n"
     ]
    }
   ],
   "source": [
    "velocidad = int(input(\"Introduce la velocidad en km/s: \")) #ingreso de datos para determinar el mensaje a enviar.\n",
    "tamano = int(input(\"Introduce el tamaño del asteroide: \")) #ingreso de datos para determinar el mensaje a enviar.\n",
    "advertencia = 25 # velocidad máxima para no enviar mensaje de alerta.\n",
    "aviso = 20 # velocidad minima para dejar rastros visibles al entrar a la atmósfera\n",
    "if int(velocidad) > advertencia or tamano > advertencia:#cualquiera de las dos condiciones que se cumplan.\n",
    "  print(\"¡A L E R T A!, asteroide con direccion a la tierra. Potencialmente peligroso. \",\"Velocidad:\" ,str(velocidad),\"km/s\", \"Tamaño:\",str(tamano),\"metros\")\n",
    "elif int(velocidad) >= aviso:\n",
    "    print(\"AVISO, asteroide entrando a la atmósfera a una velocidad de \" , str(velocidad) , \"km/s, podría dejar estela de luz. Estén atentos al cielo. \")\n",
    "else:\n",
    "    print(\"Todo normal\") \n",
    "\n"
   ]
  },
  {
   "cell_type": "markdown",
   "metadata": {},
   "source": [
    "### Problema No.1"
   ]
  },
  {
   "cell_type": "code",
   "execution_count": 67,
   "metadata": {},
   "outputs": [
    {
     "name": "stdout",
     "output_type": "stream",
     "text": [
      "¡A L E R T A!, asteroide acercándose a una velocidad mayor a los 25 km/s\n"
     ]
    }
   ],
   "source": [
    "velocidad = 49\n",
    "if velocidad > 25:\n",
    "    print('¡A L E R T A!, asteroide acercándose a una velocidad mayor a los 25 km/s')\n",
    "else:\n",
    "    print('¡Ten un buen día!')"
   ]
  },
  {
   "cell_type": "markdown",
   "metadata": {},
   "source": [
    "### Problema No.2"
   ]
  },
  {
   "cell_type": "code",
   "execution_count": 50,
   "metadata": {},
   "outputs": [
    {
     "name": "stdout",
     "output_type": "stream",
     "text": [
      "¡Nada que ver aquí!\n"
     ]
    }
   ],
   "source": [
    "velocidad = 19\n",
    "if velocidad > 20:\n",
    "    print('AVISO, asteroide entrando a la atmósfera, a \" , str(velocidad) , \"km/s podría ser visible en el cielo. ')\n",
    "elif velocidad == 20:\n",
    "    print(\"AVISO, asteroide entrando a la atmósfera a una velocidad de \" , str(velocidad) , \"km/s, podría dejar estela de luz. Estén atentos al cielo. \")\n",
    "else:\n",
    "    print('¡Nada que ver aquí!')"
   ]
  },
  {
   "cell_type": "markdown",
   "metadata": {},
   "source": [
    "### Problema No.3"
   ]
  },
  {
   "cell_type": "code",
   "execution_count": 71,
   "metadata": {},
   "outputs": [
    {
     "name": "stdout",
     "output_type": "stream",
     "text": [
      "AVISO, asteroide entrando a la atmósfera a una velocidad de  25 km/s, podría dejar estela de luz. Estén atentos al cielo. \n"
     ]
    }
   ],
   "source": [
    "\n",
    "velocidad = 25\n",
    "tamano = 40\n",
    "if velocidad > 25 and tamano > 25:\n",
    "    print('¡A L E R T A!, asteroide muy peligroso viene hacia la Tierra!')\n",
    "elif velocidad >= 20:\n",
    "    print(\"AVISO, asteroide entrando a la atmósfera a una velocidad de \" , str(velocidad) , \"km/s, podría dejar estela de luz. Estén atentos al cielo. \")\n",
    "elif tamano < 25:\n",
    "    print(\"Todo normal\")\n",
    "else:\n",
    "    print(\"Todo normal\")"
   ]
  }
 ],
 "metadata": {
  "interpreter": {
   "hash": "5322818cae43cf6468214953b049884cb6ca7e8071f01fca2a6d6ce521d192bd"
  },
  "kernelspec": {
   "display_name": "Python 3.10.2 64-bit",
   "language": "python",
   "name": "python3"
  },
  "language_info": {
   "codemirror_mode": {
    "name": "ipython",
    "version": 3
   },
   "file_extension": ".py",
   "mimetype": "text/x-python",
   "name": "python",
   "nbconvert_exporter": "python",
   "pygments_lexer": "ipython3",
   "version": "3.10.2"
  },
  "orig_nbformat": 4
 },
 "nbformat": 4,
 "nbformat_minor": 2
}
