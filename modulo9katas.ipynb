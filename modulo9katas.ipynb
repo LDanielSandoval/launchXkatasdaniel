{
 "cells": [
  {
   "cell_type": "markdown",
   "metadata": {},
   "source": [
    "# Uso de funciones en Python\n",
    "\n",
    "### Ejercicio No.1"
   ]
  },
  {
   "cell_type": "code",
   "execution_count": 10,
   "metadata": {},
   "outputs": [
    {
     "name": "stdout",
     "output_type": "stream",
     "text": [
      "Fuel Report\n",
      "  Total Tanks: 50.0%\n",
      "  Main Tank: 70%\n",
      "  Reserverd Tank: 30%\n",
      "  External Tank: 50%\n",
      "  \n"
     ]
    },
    {
     "data": {
      "text/plain": [
       "50.0"
      ]
     },
     "execution_count": 10,
     "metadata": {},
     "output_type": "execute_result"
    }
   ],
   "source": [
    "# Función para leer 3 tanques de combustible  y muestre el promedio.\n",
    "def tanks_report(main_tank, reserverd_tank, external_tank):\n",
    "  total_tanks = (main_tank + reserverd_tank + external_tank) / 3\n",
    "# Actualiza la función.\n",
    "  return f\"\"\"Fuel Report\n",
    "  Total Tanks: {average([main_tank, reserverd_tank, external_tank])}%\n",
    "  Main Tank: {main_tank}%\n",
    "  Reserverd Tank: {reserverd_tank}%\n",
    "  External Tank: {external_tank}%\n",
    "  \"\"\"\n",
    "# Llamamos a la función que genera el reporte print.\n",
    "print(tanks_report(70, 30, 50))\n",
    "# Función promedio.\n",
    "def average(values):\n",
    "  total = sum(values)\n",
    "  number_of_items = len(values)\n",
    "  return total / number_of_items\n",
    "average ([70, 30, 50])\n"
   ]
  },
  {
   "cell_type": "markdown",
   "metadata": {},
   "source": [
    "### Ejercicio No.2\n",
    "#### Tabajo con argumntos de palabra clave"
   ]
  },
  {
   "cell_type": "code",
   "execution_count": 15,
   "metadata": {},
   "outputs": [
    {
     "name": "stdout",
     "output_type": "stream",
     "text": [
      "\n",
      "  Mission to Mars\n",
      "  Travel time: 32 minutes\n",
      "  Fuel left: 500000 gallons\n",
      "  \n",
      "\n",
      "  Mission to Mars\n",
      "  Travel time: 52 minutes\n",
      "  Fuel left: 500000 gallons\n",
      "  \n",
      "\n",
      "  Mission to Mars\n",
      "  Total travel time: 52 minutes\n",
      "  Total fuel left: 500000\n",
      "  main tank --> 300000 gallons left\n",
      "\n"
     ]
    }
   ],
   "source": [
    "# Función con un informe preciso de la misión.\n",
    "def mission_report(pre_launch, flight_time, destination, external_tank, main_tank):\n",
    "  return f\"\"\"\n",
    "  Mission to {destination}\n",
    "  Travel time: {pre_launch + flight_time} minutes\n",
    "  Fuel left: {external_tank + main_tank} gallons\n",
    "  \"\"\"\n",
    "print(mission_report(9, 23, \"Mars\", 300000, 200000))\n",
    "# Escirbe tu nueva funcion de reporte.\n",
    "def mission_report(destination, *minutes, **fuel_reservoirs):\n",
    "  return f\"\"\"\n",
    "  Mission to {destination}\n",
    "  Travel time: {sum(minutes)} minutes\n",
    "  Fuel left: {sum(fuel_reservoirs.values())} gallons\n",
    "  \"\"\"\n",
    "print(mission_report(\"Mars\", 9, 23, 20,main=300000, external=200000))\n",
    "# Escribe tu nueva función\n",
    "def mission_report(destination, *minutes, **fuel_reservoirs):\n",
    "  report_main = f\"\"\"\n",
    "  Mission to {destination}\n",
    "  Travel time: {sum(minutes)} minutes\n",
    "  Fuel left: {sum(fuel_reservoirs.values())}\n",
    "  \"\"\"\n",
    "  for tank_name, gallons in fuel_reservoirs.items():\n",
    "    report_main += f\"{tank_name} tank --> {gallons} gallons left\\n\"\n",
    "    return report_main\n",
    "\n",
    "print(mission_report(\"Mars\", 9, 23, 20, main=300000, external=200000))\n"
   ]
  }
 ],
 "metadata": {
  "interpreter": {
   "hash": "5322818cae43cf6468214953b049884cb6ca7e8071f01fca2a6d6ce521d192bd"
  },
  "kernelspec": {
   "display_name": "Python 3.10.2 64-bit",
   "language": "python",
   "name": "python3"
  },
  "language_info": {
   "codemirror_mode": {
    "name": "ipython",
    "version": 3
   },
   "file_extension": ".py",
   "mimetype": "text/x-python",
   "name": "python",
   "nbconvert_exporter": "python",
   "pygments_lexer": "ipython3",
   "version": "3.10.2"
  },
  "orig_nbformat": 4
 },
 "nbformat": 4,
 "nbformat_minor": 2
}
