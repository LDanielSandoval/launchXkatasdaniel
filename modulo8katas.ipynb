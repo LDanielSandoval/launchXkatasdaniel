{
 "cells": [
  {
   "cell_type": "markdown",
   "metadata": {},
   "source": [
    "# Adminidtrar  datos con diccionarios\n",
    "\n",
    "### Ejercicio No.1"
   ]
  },
  {
   "cell_type": "code",
   "execution_count": 11,
   "metadata": {},
   "outputs": [
    {
     "name": "stdout",
     "output_type": "stream",
     "text": [
      "Mars has 2 moons\n",
      "Mars polar circumference: 6752\n"
     ]
    }
   ],
   "source": [
    "# Crea un diccionario.\n",
    "planet = {\n",
    "  'name': 'Mars',\n",
    "  'moons': 2\n",
    "}\n",
    "# Muestra el nombre del planeta y el número de lunas que tiene.\n",
    "print(f'{planet[\"name\"]} has {planet[\"moons\"]} moons')\n",
    "# Agregar la clave con los datos previamente proporcionados.\n",
    "planet['circumference (km)'] = {\n",
    "  'polar': 6752,\n",
    "  'equatorial': 6792\n",
    "}\n",
    "# Imprime el nombre del planeta con su circunferencia polar\n",
    "print(f'{planet[\"name\"]} polar circumference: {planet[\"circumference (km)\"][\"polar\"]}')\n"
   ]
  },
  {
   "cell_type": "markdown",
   "metadata": {},
   "source": [
    "### Ejercicio No.2"
   ]
  },
  {
   "cell_type": "code",
   "execution_count": 10,
   "metadata": {},
   "outputs": [
    {
     "name": "stdout",
     "output_type": "stream",
     "text": [
      "214\n",
      "17.833333333333332\n"
     ]
    }
   ],
   "source": [
    "# Planets and moons\n",
    "planet_moons = {\n",
    "    'mercury': 0,\n",
    "    'venus': 0,\n",
    "    'earth': 1,\n",
    "    'mars': 2,\n",
    "    'jupiter': 79,\n",
    "    'saturn': 82,\n",
    "    'uranus': 27,\n",
    "    'neptune': 14,\n",
    "    'pluto': 5,\n",
    "    'haumea': 2,\n",
    "    'makemake': 1,\n",
    "    'eris': 1\n",
    "}\n",
    "# Agrega el código para determinar el número de lunas.\n",
    "moons = planet_moons.values()\n",
    "#print(planet_moons.values())\n",
    "planets = len(planet_moons.keys())\n",
    "#print(planet_moons.keys())\n",
    "# Agregar el código para contar el número de lunas.\n",
    "total_moons = 0\n",
    "for moon in moons:\n",
    "  total_moons = total_moons + moon\n",
    "print(total_moons)\n",
    "averange = total_moons / planets\n",
    "print(averange)"
   ]
  }
 ],
 "metadata": {
  "interpreter": {
   "hash": "5322818cae43cf6468214953b049884cb6ca7e8071f01fca2a6d6ce521d192bd"
  },
  "kernelspec": {
   "display_name": "Python 3.10.2 64-bit",
   "language": "python",
   "name": "python3"
  },
  "language_info": {
   "codemirror_mode": {
    "name": "ipython",
    "version": 3
   },
   "file_extension": ".py",
   "mimetype": "text/x-python",
   "name": "python",
   "nbconvert_exporter": "python",
   "pygments_lexer": "ipython3",
   "version": "3.10.2"
  },
  "orig_nbformat": 4
 },
 "nbformat": 4,
 "nbformat_minor": 2
}
